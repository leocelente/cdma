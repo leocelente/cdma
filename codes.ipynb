{
 "cells": [
  {
   "cell_type": "code",
   "execution_count": 17,
   "metadata": {},
   "outputs": [
    {
     "name": "stdout",
     "output_type": "stream",
     "text": [
      "10 bit LFSR with feedback polynomial  x^9 + x^7 + x^6 + x^4 + x^3 + x^1 + 1\n",
      "Expected Period (if polynomial is primitive) =  1023\n",
      "Current :\n",
      " State        :  [0 1 0 1 0 0 0 1 0 1]\n",
      " Count        :  0\n",
      " Output bit   :  -1\n",
      " feedback bit :  -1\n"
     ]
    }
   ],
   "source": [
    "# pip3 install pylfsr\n",
    "from pylfsr import LFSR\n",
    "L = LFSR(initstate=[0,1,0,1,0,0,0,1,0,1], fpoly=[9, 7, 6, 4, 3, 1])\n",
    "L.info()"
   ]
  },
  {
   "cell_type": "code",
   "execution_count": 19,
   "metadata": {},
   "outputs": [
    {
     "name": "stdout",
     "output_type": "stream",
     "text": [
      "Code: 0x42 : 0b1000010\n",
      "Code: 0x78 : 0b1111000\n",
      "Code: 0xd1 : 0b11010001\n",
      "Code: 0x2e : 0b101110\n",
      "Code: 0x6e : 0b1101110\n",
      "Code: 0x56 : 0b1010110\n"
     ]
    }
   ],
   "source": [
    "\n",
    "L.next()\n",
    "for i in range(6):\n",
    "    code = []\n",
    "    for i in range(8):\n",
    "        code.append(L.outbit)\n",
    "        L.next()\n",
    "    byte = sum([code[8-i-1] * 2**i for i in range(8)])\n",
    "    print(f\"Code: {hex(byte)} : {bin(byte)}\")\n"
   ]
  },
  {
   "cell_type": "code",
   "execution_count": null,
   "metadata": {},
   "outputs": [],
   "source": []
  }
 ],
 "metadata": {
  "kernelspec": {
   "display_name": "Python 3.10.6 64-bit",
   "language": "python",
   "name": "python3"
  },
  "language_info": {
   "codemirror_mode": {
    "name": "ipython",
    "version": 3
   },
   "file_extension": ".py",
   "mimetype": "text/x-python",
   "name": "python",
   "nbconvert_exporter": "python",
   "pygments_lexer": "ipython3",
   "version": "3.10.6"
  },
  "orig_nbformat": 4,
  "vscode": {
   "interpreter": {
    "hash": "916dbcbb3f70747c44a77c7bcd40155683ae19c65e1c03b4aa3499c5328201f1"
   }
  }
 },
 "nbformat": 4,
 "nbformat_minor": 2
}
